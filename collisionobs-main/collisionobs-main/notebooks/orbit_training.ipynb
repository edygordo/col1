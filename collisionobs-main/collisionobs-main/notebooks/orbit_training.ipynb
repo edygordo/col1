{
 "cells": [
  {
   "cell_type": "markdown",
   "metadata": {},
   "source": [
    "# Training data creation"
   ]
  },
  {
   "cell_type": "code",
   "execution_count": 6,
   "metadata": {},
   "outputs": [],
   "source": [
    "#pip install autograd"
   ]
  },
  {
   "cell_type": "code",
   "execution_count": 7,
   "metadata": {},
   "outputs": [],
   "source": [
    "import sys\n",
    "sys.path.append(\"../modules\")\n",
    "import numpy as np\n",
    "import pandas as pd\n",
    "from numpy.linalg import inv, norm\n",
    "from astropy import units as u\n",
    "from datetime import datetime\n",
    "from numba import jit\n",
    "from scipy.optimize import minimize, fsolve, newton\n",
    "from poliastro.bodies import Earth\n",
    "from poliastro.twobody import Orbit\n",
    "from poliastro.plotting import *\n",
    "from poliastro.constants import J2000\n",
    "from poliastro.util import time_range\n",
    "from datetime import datetime, timedelta\n",
    "import plotly.io as pio\n",
    "pio.renderers.default = \"vscode\"\n",
    "from orbit_module import get_orbit, tle_data, create_rso, rv_sample\n",
    "from observation import rv_observation, collision_model, objective, mass_constraint1, \\\n",
    "    mass_constraint2, velocity_constraint, partial_Lagrangian, hessian_lagrangian, svdinv, lagrangian\n",
    "from astropy.constants import G, M_earth\n",
    "import matplotlib.pyplot as plt\n",
    "from astropy import time\n",
    "from astropy.coordinates import EarthLocation, AltAz\n",
    "import astropy.coordinates as coord\n",
    "from tqdm import tqdm\n",
    "\n",
    "mu = G*M_earth"
   ]
  },
  {
   "cell_type": "code",
   "execution_count": 8,
   "metadata": {},
   "outputs": [],
   "source": [
    "sat_Data = pd.read_csv('../data/sat_list.csv', header = None)\n",
    "sat_list = sat_Data.loc[:,0] + \"-2-\" + sat_Data.loc[:,2]"
   ]
  },
  {
   "cell_type": "code",
   "execution_count": 9,
   "metadata": {},
   "outputs": [
    {
     "data": {
      "text/plain": [
       "0              LEMUR-2-JOEL\n",
       "1             LEMUR-2-CHRIS\n",
       "2            LEMUR-2-JEROEN\n",
       "3             LEMUR-2-PETER\n",
       "4     LEMUR-2-THERESACONDOR\n",
       "              ...          \n",
       "61     LEMUR-2-TALLHAMN-ATC\n",
       "62         LEMUR-2-JIN-LUEN\n",
       "63      LEMUR-2-URAMCHANSOL\n",
       "64             LEMUR-2-KADI\n",
       "65      LEMUR-2-THENICKMOLO\n",
       "Length: 66, dtype: object"
      ]
     },
     "execution_count": 9,
     "metadata": {},
     "output_type": "execute_result"
    }
   ],
   "source": [
    "sat_list"
   ]
  },
  {
   "cell_type": "code",
   "execution_count": 10,
   "metadata": {},
   "outputs": [
    {
     "name": "stderr",
     "output_type": "stream",
     "text": [
      "  0%|                                                                                           | 0/20 [00:00<?, ?it/s]\n"
     ]
    },
    {
     "ename": "TypeError",
     "evalue": "get_orbit() missing 1 required positional argument: 'TLE'",
     "output_type": "error",
     "traceback": [
      "\u001b[1;31m---------------------------------------------------------------------------\u001b[0m",
      "\u001b[1;31mTypeError\u001b[0m                                 Traceback (most recent call last)",
      "\u001b[1;32m<ipython-input-10-b4accc441a32>\u001b[0m in \u001b[0;36m<module>\u001b[1;34m\u001b[0m\n\u001b[0;32m      8\u001b[0m \u001b[0mframe\u001b[0m \u001b[1;33m=\u001b[0m \u001b[0mOrbitPlotter3D\u001b[0m\u001b[1;33m(\u001b[0m\u001b[1;33m)\u001b[0m\u001b[1;33m\u001b[0m\u001b[1;33m\u001b[0m\u001b[0m\n\u001b[0;32m      9\u001b[0m \u001b[1;32mfor\u001b[0m \u001b[0mi\u001b[0m \u001b[1;32min\u001b[0m \u001b[0mtqdm\u001b[0m\u001b[1;33m(\u001b[0m\u001b[0mrange\u001b[0m\u001b[1;33m(\u001b[0m\u001b[1;36m0\u001b[0m\u001b[1;33m,\u001b[0m \u001b[0msat_no\u001b[0m\u001b[1;33m)\u001b[0m\u001b[1;33m)\u001b[0m\u001b[1;33m:\u001b[0m\u001b[1;33m\u001b[0m\u001b[1;33m\u001b[0m\u001b[0m\n\u001b[1;32m---> 10\u001b[1;33m     \u001b[0mactive_sat_tle\u001b[0m \u001b[1;33m=\u001b[0m \u001b[0mget_orbit\u001b[0m\u001b[1;33m(\u001b[0m\u001b[0msat_list\u001b[0m\u001b[1;33m[\u001b[0m\u001b[0mi\u001b[0m\u001b[1;33m]\u001b[0m\u001b[1;33m)\u001b[0m\u001b[1;33m\u001b[0m\u001b[1;33m\u001b[0m\u001b[0m\n\u001b[0m\u001b[0;32m     11\u001b[0m     \u001b[0mdelt\u001b[0m \u001b[1;33m=\u001b[0m \u001b[0mepoch\u001b[0m \u001b[1;33m-\u001b[0m \u001b[0mactive_sat_tle\u001b[0m\u001b[1;33m.\u001b[0m\u001b[0mepoch\u001b[0m\u001b[1;33m\u001b[0m\u001b[1;33m\u001b[0m\u001b[0m\n\u001b[0;32m     12\u001b[0m     \u001b[0mactive_sat\u001b[0m \u001b[1;33m=\u001b[0m \u001b[0mactive_sat_tle\u001b[0m\u001b[1;33m.\u001b[0m\u001b[0mpropagate\u001b[0m\u001b[1;33m(\u001b[0m\u001b[0mdelt\u001b[0m\u001b[1;33m)\u001b[0m\u001b[1;33m\u001b[0m\u001b[1;33m\u001b[0m\u001b[0m\n",
      "\u001b[1;31mTypeError\u001b[0m: get_orbit() missing 1 required positional argument: 'TLE'"
     ]
    }
   ],
   "source": [
    "epoch = time.Time('2021-06-7 12:00:00', format='iso', scale='utc')\n",
    "sat_no = 20\n",
    "\n",
    "m_rso = (0.5 + 0.2*np.random.randn(sat_no))*u.kg\n",
    "m_sat = (2 + 0.5*np.random.randn(sat_no))*u.kg\n",
    "Z = np.zeros([sat_no, 6])\n",
    "rso_data = np.zeros([sat_no, 7])\n",
    "frame = OrbitPlotter3D()\n",
    "for i in tqdm(range(0, sat_no)):\n",
    "    active_sat_tle = get_orbit(sat_list[i])\n",
    "    delt = epoch - active_sat_tle.epoch\n",
    "    active_sat = active_sat_tle.propagate(delt)\n",
    "    rso_bc = create_rso(active_sat, 0.6*np.random.randn(3)*u.km/u.s)\n",
    "    collision = collision_model(m_sat[i], m_rso[i], active_sat, rso_bc)\n",
    "\n",
    "    r_z = collision.sat.r.value + 0.5*np.random.randn(3)\n",
    "    delv_z = collision.delta_v_sat.value + 0.1*np.random.randn(3)\n",
    "    Z[i, :] = np.hstack((r_z, delv_z))\n",
    "    rso_data[i, :] = np.hstack((rso_bc.r.value, rso_bc.v.value, m_rso[i].value))\n",
    "    #if i%3 == 0:\n",
    "    frame.plot(active_sat, label = 'sat' + str(i))\n",
    "    "
   ]
  },
  {
   "cell_type": "code",
   "execution_count": 38,
   "metadata": {},
   "outputs": [],
   "source": [
    "training_Data = pd.DataFrame(np.hstack((Z, rso_data)), columns=['x', 'y', 'z', 'delvx', 'delvy', 'delvz', \\\n",
    "    'rso_x', 'rso_y', 'rso_z', 'rso_vx', 'rso_vy', 'rso_vz', 'rso_m'])\n",
    "training_Data.to_csv('../data/training_data.csv', index = False)"
   ]
  },
  {
   "cell_type": "code",
   "execution_count": 39,
   "metadata": {},
   "outputs": [
    {
     "data": {
      "text/plain": [
       "66"
      ]
     },
     "execution_count": 39,
     "metadata": {},
     "output_type": "execute_result"
    }
   ],
   "source": [
    "len(sat_list)"
   ]
  },
  {
   "cell_type": "code",
   "execution_count": null,
   "metadata": {},
   "outputs": [],
   "source": []
  }
 ],
 "metadata": {
  "interpreter": {
   "hash": "b8a9d2bf3c49d95c0212287cf394bfe5ba81567c5a134c52c6503e3ea0d36e32"
  },
  "kernelspec": {
   "display_name": "Python 3",
   "language": "python",
   "name": "python3"
  },
  "language_info": {
   "codemirror_mode": {
    "name": "ipython",
    "version": 3
   },
   "file_extension": ".py",
   "mimetype": "text/x-python",
   "name": "python",
   "nbconvert_exporter": "python",
   "pygments_lexer": "ipython3",
   "version": "3.8.5"
  }
 },
 "nbformat": 4,
 "nbformat_minor": 2
}
